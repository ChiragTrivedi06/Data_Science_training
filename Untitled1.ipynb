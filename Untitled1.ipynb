{
 "cells": [
  {
   "cell_type": "raw",
   "id": "e798303d",
   "metadata": {},
   "source": []
  },
  {
   "cell_type": "markdown",
   "id": "7b2b56fa",
   "metadata": {},
   "source": [
    "# cleandata"
   ]
  },
  {
   "cell_type": "code",
   "execution_count": null,
   "id": "7d77f386",
   "metadata": {},
   "outputs": [],
   "source": [
    "\n",
    "try:\n",
    "    a=int(input(\"Enter first number: \"))\n",
    "    b=int(input(\"Enter second number: \"))\n",
    "    c=a/b\n",
    "except ValueError as e:\n",
    "    print(\"enter numerical value.\")\n",
    "    \n",
    "except ZeroDivisionError:\n",
    "     print(\"Not able to divide by Zero\")\n",
    " \n",
    "\n",
    "    \n",
    "else:\n",
    "    print(\"Division is: \", a/b)"
   ]
  }
 ],
 "metadata": {
  "kernelspec": {
   "display_name": "Python 3 (ipykernel)",
   "language": "python",
   "name": "python3"
  },
  "language_info": {
   "codemirror_mode": {
    "name": "ipython",
    "version": 3
   },
   "file_extension": ".py",
   "mimetype": "text/x-python",
   "name": "python",
   "nbconvert_exporter": "python",
   "pygments_lexer": "ipython3",
   "version": "3.10.7"
  }
 },
 "nbformat": 4,
 "nbformat_minor": 5
}
