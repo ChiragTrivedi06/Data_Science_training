{
 "cells": [
  {
   "cell_type": "code",
   "execution_count": 5,
   "id": "b2e5b10e",
   "metadata": {},
   "outputs": [
    {
     "name": "stdout",
     "output_type": "stream",
     "text": [
      "Enter marks: 450\n",
      "TOFEL EXAM\n"
     ]
    }
   ],
   "source": [
    "#if-else-- Question:\n",
    "marks = int(input(\"Enter marks: \"))\n",
    "\n",
    "if(marks>=600):\n",
    "    print(\"GRE EXAM\")\n",
    "\n",
    "elif(marks<600 and marks>=500):\n",
    "    print(\"No GRE EXAM\")\n",
    "    \n",
    "elif(marks<500 and marks>=400):\n",
    "    print(\"TOFEL EXAM\")\n",
    "elif(marks<400):\n",
    "    print(\"Try Something ELSE\")"
   ]
  }
 ],
 "metadata": {
  "kernelspec": {
   "display_name": "Python 3 (ipykernel)",
   "language": "python",
   "name": "python3"
  },
  "language_info": {
   "codemirror_mode": {
    "name": "ipython",
    "version": 3
   },
   "file_extension": ".py",
   "mimetype": "text/x-python",
   "name": "python",
   "nbconvert_exporter": "python",
   "pygments_lexer": "ipython3",
   "version": "3.10.7"
  }
 },
 "nbformat": 4,
 "nbformat_minor": 5
}
