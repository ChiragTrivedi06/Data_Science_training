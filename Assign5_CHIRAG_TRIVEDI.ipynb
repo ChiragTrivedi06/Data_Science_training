{
 "cells": [
  {
   "cell_type": "code",
   "execution_count": null,
   "id": "7609dbaf",
   "metadata": {},
   "outputs": [],
   "source": [
    "#1.what is numpy?\n",
    "NumPy stands for numeric python which is a python package for the computation and processing of the multidimensional and single dimensional array elements.\n"
   ]
  },
  {
   "cell_type": "code",
   "execution_count": null,
   "id": "75b9041c",
   "metadata": {},
   "outputs": [],
   "source": [
    "#2.why should we use numpy?\n",
    "this are following reason to use numpy:\n",
    "    1.it take less memory compare to list.\n",
    "    2.it is very to used compare to list.\n",
    "    3. it execution is very fast."
   ]
  },
  {
   "cell_type": "code",
   "execution_count": null,
   "id": "3f9140a3",
   "metadata": {},
   "outputs": [],
   "source": [
    "#3. "
   ]
  },
  {
   "cell_type": "code",
   "execution_count": null,
   "id": "c50a04ff",
   "metadata": {},
   "outputs": [],
   "source": [
    "# 4.what are the ways of creating 1d array ,2d array and 3d array?\n",
    "1d array:\n",
    "    import numpy as np\n",
    "    arr = np.array([1, 2, 3, 4, 5])\n",
    "    print(arr)\n",
    "    \n",
    "2d array:\n",
    "    import numpy as np\n",
    "    arr=np.array([[1,2,3,4,5],[6,7,8,9,10]])\n",
    "    print(arr)\n",
    "    \n",
    "3d array:\n",
    "    import numpy as np\n",
    "    arr=np.array([[[1,2,3,4,5],[6,7,8,9,10]],[[1,2,2,3,4],[6,7,8,9,5]]])\n",
    "    print(arr)\n",
    "    "
   ]
  }
 ],
 "metadata": {
  "kernelspec": {
   "display_name": "Python 3 (ipykernel)",
   "language": "python",
   "name": "python3"
  },
  "language_info": {
   "codemirror_mode": {
    "name": "ipython",
    "version": 3
   },
   "file_extension": ".py",
   "mimetype": "text/x-python",
   "name": "python",
   "nbconvert_exporter": "python",
   "pygments_lexer": "ipython3",
   "version": "3.10.7"
  }
 },
 "nbformat": 4,
 "nbformat_minor": 5
}
