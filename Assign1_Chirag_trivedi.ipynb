{
 "cells": [
  {
   "cell_type": "code",
   "execution_count": 1,
   "id": "f8dd5439",
   "metadata": {},
   "outputs": [],
   "source": [
    "s=\"this is my first Python Programming class and I am learning PYTHon String and its function. \"\n"
   ]
  },
  {
   "cell_type": "code",
   "execution_count": 2,
   "id": "4d2b27f9",
   "metadata": {},
   "outputs": [
    {
     "name": "stdout",
     "output_type": "stream",
     "text": [
      "h   r tnrrmglsnImengYoSi dtfco\n"
     ]
    }
   ],
   "source": [
    "#  1.extract data from index 1 to 300 with jump of 3\n",
    "print(s[1:300:3])"
   ]
  },
  {
   "cell_type": "code",
   "execution_count": 3,
   "id": "b28ca5ee",
   "metadata": {},
   "outputs": [
    {
     "name": "stdout",
     "output_type": "stream",
     "text": [
      " noitcnuf sti dna gnirtS noHTYP gninrael ma I dna ssalc gnimmargorP nohtyP tsrif ym si siht\n"
     ]
    }
   ],
   "source": [
    "# 2. extract to reverse a string\n",
    "print(s[::-1])"
   ]
  },
  {
   "cell_type": "code",
   "execution_count": 4,
   "id": "9613a701",
   "metadata": {},
   "outputs": [
    {
     "data": {
      "text/plain": [
       "['THIS',\n",
       " 'IS',\n",
       " 'MY',\n",
       " 'FIRST',\n",
       " 'PYTHON',\n",
       " 'PROGRAMMING',\n",
       " 'CLASS',\n",
       " 'AND',\n",
       " 'I',\n",
       " 'AM',\n",
       " 'LEARNING',\n",
       " 'PYTHON',\n",
       " 'STRING',\n",
       " 'AND',\n",
       " 'ITS',\n",
       " 'FUNCTION']"
      ]
     },
     "execution_count": 4,
     "metadata": {},
     "output_type": "execute_result"
    }
   ],
   "source": [
    "# 3. try to split the string after conversion into uppercase\n",
    "s=s.upper()\n",
    "s.split()\n"
   ]
  },
  {
   "cell_type": "code",
   "execution_count": 8,
   "id": "4147c553",
   "metadata": {},
   "outputs": [
    {
     "name": "stdout",
     "output_type": "stream",
     "text": [
      "this is my first python programming class and i am learning python string and its function \n"
     ]
    }
   ],
   "source": [
    "# 4. try to coverte whole string into lowercase\n",
    "s=s.lower()\n",
    "print(s)"
   ]
  },
  {
   "cell_type": "code",
   "execution_count": 19,
   "id": "dc9b14fe",
   "metadata": {},
   "outputs": [
    {
     "name": "stdout",
     "output_type": "stream",
     "text": [
      "This is my first python programming class and i am learning python string and its function \n"
     ]
    }
   ],
   "source": [
    "# 5. try to capitalise whole string\n",
    "s=s.capitalize()\n",
    "print(s)"
   ]
  },
  {
   "cell_type": "code",
   "execution_count": null,
   "id": "d677709c",
   "metadata": {},
   "outputs": [],
   "source": [
    "isalnum() --> This function checks that given string contains only alpha-numberic values or not.\n",
    "isaplha() --> This function checks that given string contains only aplhabets or not."
   ]
  },
  {
   "cell_type": "code",
   "execution_count": 25,
   "id": "c3cf3d8a",
   "metadata": {},
   "outputs": [
    {
     "name": "stdout",
     "output_type": "stream",
     "text": [
      "hello\tworld\n",
      "hello         world\n"
     ]
    }
   ],
   "source": [
    "#expandtab() --> This function defines the tab size of the string , in other words it alters the tab size for a given string\n",
    "#eg.:\n",
    "s1=\"hello\\tworld\"  \n",
    "print(s1)        #  ->  hello    world   \n",
    "print(s1.expandtabs(14) )   #->hello         world"
   ]
  },
  {
   "cell_type": "code",
   "execution_count": 26,
   "id": "2a17f73a",
   "metadata": {},
   "outputs": [
    {
     "name": "stdout",
     "output_type": "stream",
     "text": [
      "Chirag\n",
      "Chirag \n",
      "  Chirag\n"
     ]
    }
   ],
   "source": [
    "#Examples for strip():\n",
    "str1=\"  Chirag \"\n",
    "print(str1.strip())\n",
    "print(str1.lstrip())\n",
    "print(str1.rstrip())"
   ]
  },
  {
   "cell_type": "code",
   "execution_count": 32,
   "id": "40362051",
   "metadata": {},
   "outputs": [
    {
     "name": "stdout",
     "output_type": "stream",
     "text": [
      "hello World\n"
     ]
    }
   ],
   "source": [
    "#Replacing String Character:\n",
    "str1 = \"Hello world\"\n",
    "str1=list(str1)\n",
    "str1[0]='h'\n",
    "str1[6]='W'\n",
    "str1=''.join(str1)\n",
    "print(str1)"
   ]
  },
  {
   "cell_type": "code",
   "execution_count": 41,
   "id": "5d2d97c9",
   "metadata": {},
   "outputs": [
    {
     "data": {
      "text/plain": [
       "'___chirag___'"
      ]
     },
     "execution_count": 41,
     "metadata": {},
     "output_type": "execute_result"
    }
   ],
   "source": [
    "#String Center function:\n",
    "\"''String's center() function is used to center a given string with the specified width as an argument, if widht is small than the size of given string than the string remains intact but if the widht is greater than the size of given string then it cneters the string with the help of given character as an argument\"''\n",
    "s='chirag'\n",
    "s.center(12,'_')"
   ]
  },
  {
   "cell_type": "code",
   "execution_count": null,
   "id": "c93effc7",
   "metadata": {},
   "outputs": [],
   "source": [
    "#Compiler and Interpreter\n",
    "\"Compiler translates  the entire source code into machine level code in once while interpreter translates the source code line by line and executes after every line.\""
   ]
  }
 ],
 "metadata": {
  "kernelspec": {
   "display_name": "Python 3 (ipykernel)",
   "language": "python",
   "name": "python3"
  },
  "language_info": {
   "codemirror_mode": {
    "name": "ipython",
    "version": 3
   },
   "file_extension": ".py",
   "mimetype": "text/x-python",
   "name": "python",
   "nbconvert_exporter": "python",
   "pygments_lexer": "ipython3",
   "version": "3.10.7"
  }
 },
 "nbformat": 4,
 "nbformat_minor": 5
}
