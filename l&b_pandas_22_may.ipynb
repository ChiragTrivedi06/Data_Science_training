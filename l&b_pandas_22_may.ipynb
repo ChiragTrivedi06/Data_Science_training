{
 "cells": [
  {
   "cell_type": "code",
   "execution_count": 5,
   "id": "ea184d3e",
   "metadata": {},
   "outputs": [
    {
     "data": {
      "text/plain": [
       "15.5"
      ]
     },
     "execution_count": 5,
     "metadata": {},
     "output_type": "execute_result"
    }
   ],
   "source": [
    "a=10\n",
    "b=123\n",
    "def test(a,b):\n",
    "    return a+b\n",
    "test(.50,15)"
   ]
  },
  {
   "cell_type": "code",
   "execution_count": 9,
   "id": "96c5a304",
   "metadata": {},
   "outputs": [
    {
     "data": {
      "text/plain": [
       "(1, 1, 2, 3, 3, 4)"
      ]
     },
     "execution_count": 9,
     "metadata": {},
     "output_type": "execute_result"
    }
   ],
   "source": [
    "def test1(*args):\n",
    "    return args\n",
    "test1(1,1,2,3,3,4)"
   ]
  },
  {
   "cell_type": "code",
   "execution_count": null,
   "id": "27c0c32c",
   "metadata": {},
   "outputs": [],
   "source": []
  }
 ],
 "metadata": {
  "kernelspec": {
   "display_name": "Python 3 (ipykernel)",
   "language": "python",
   "name": "python3"
  },
  "language_info": {
   "codemirror_mode": {
    "name": "ipython",
    "version": 3
   },
   "file_extension": ".py",
   "mimetype": "text/x-python",
   "name": "python",
   "nbconvert_exporter": "python",
   "pygments_lexer": "ipython3",
   "version": "3.10.7"
  }
 },
 "nbformat": 4,
 "nbformat_minor": 5
}
