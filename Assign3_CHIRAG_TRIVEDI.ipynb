{
 "cells": [
  {
   "cell_type": "code",
   "execution_count": 5,
   "id": "ccf764a6",
   "metadata": {},
   "outputs": [
    {
     "name": "stdout",
     "output_type": "stream",
     "text": [
      "Chirag\t \n",
      "\n",
      "Chirag\t Chirag\t \n",
      "\n",
      "Chirag\t Chirag\t Chirag\t \n",
      "\n"
     ]
    }
   ],
   "source": [
    "for i in range(0,3):\n",
    "    for j in range(0, i+1):\n",
    "        print(\"Chirag\\t\",end=' ')\n",
    "    print(\"\\n\")"
   ]
  },
  {
   "cell_type": "code",
   "execution_count": null,
   "id": "65651f8d",
   "metadata": {},
   "outputs": [],
   "source": []
  },
  {
   "cell_type": "code",
   "execution_count": 7,
   "id": "17744cf6",
   "metadata": {},
   "outputs": [],
   "source": [
    "l=[[1,2,3,4], (2,3,4,5,6), (3,4,5,6,7), set([23,4,45,4,4,5,4,4,5]), {'k':\"raksha\", 'k2':'lnb', 3:6, 7:8}, [\"lnb\", \"datascience\"]]\n"
   ]
  },
  {
   "cell_type": "code",
   "execution_count": 8,
   "id": "d3faa2e3",
   "metadata": {},
   "outputs": [
    {
     "name": "stdout",
     "output_type": "stream",
     "text": [
      "List are:\n",
      "[1, 2, 3, 4]\n",
      "['lnb', 'datascience']\n"
     ]
    }
   ],
   "source": [
    "print(\"List items are:\")\n",
    "for i in l:\n",
    "    if type(i)==list:\n",
    "        print(i)"
   ]
  },
  {
   "cell_type": "code",
   "execution_count": 9,
   "id": "a8a2c38f",
   "metadata": {},
   "outputs": [
    {
     "name": "stdout",
     "output_type": "stream",
     "text": [
      "Dictionary are:\n",
      "{'k': 'raksha', 'k2': 'lnb', 3: 6, 7: 8}\n"
     ]
    }
   ],
   "source": [
    "print(\"Dictionary items are:\")\n",
    "for i in l:\n",
    "    if type(i)==dict:\n",
    "        print(i)"
   ]
  },
  {
   "cell_type": "code",
   "execution_count": 10,
   "id": "7c0bae68",
   "metadata": {},
   "outputs": [
    {
     "name": "stdout",
     "output_type": "stream",
     "text": [
      "Tuple are:\n",
      "(2, 3, 4, 5, 6)\n",
      "(3, 4, 5, 6, 7)\n"
     ]
    }
   ],
   "source": [
    "print(\"Tuple items are:\")\n",
    "for i in l:\n",
    "    if type(i)==tuple:\n",
    "        print(i)"
   ]
  },
  {
   "cell_type": "code",
   "execution_count": 12,
   "id": "689805c0",
   "metadata": {},
   "outputs": [
    {
     "name": "stdout",
     "output_type": "stream",
     "text": [
      "1 2 3 4 \n",
      "\n",
      "2 3 4 5 6 \n",
      "\n",
      "3 4 5 6 7 \n",
      "\n",
      "5 4 45 23 \n",
      "\n",
      "3 6 7 8 \n",
      "\n",
      "\n",
      "\n"
     ]
    }
   ],
   "source": [
    "for i in l:\n",
    "    if type(i)==int:\n",
    "        print(i)\n",
    "    \n",
    "    elif type(i)==list or type(i)==tuple or type(i)==set:\n",
    "        for j in i:\n",
    "            if type(j)==int:\n",
    "                print(j, end=' ')\n",
    "                \n",
    "    elif type(i)==dict:\n",
    "        for k,v in i.items():\n",
    "            if(type(k)==int):\n",
    "                print(k, end=' ')\n",
    "            if(type(v)==int):\n",
    "                print(v, end=' ')\n",
    "    print(\"\\n\")"
   ]
  },
  {
   "cell_type": "code",
   "execution_count": 13,
   "id": "86f7710e",
   "metadata": {},
   "outputs": [
    {
     "name": "stdout",
     "output_type": "stream",
     "text": [
      "lnb lnb "
     ]
    }
   ],
   "source": [
    "for i in l:\n",
    "    if(i==\"lnb\"):\n",
    "        print(i)\n",
    "        \n",
    "    elif(type(i)==list or type(i)==tuple or type(i)==set):\n",
    "        for j in i:\n",
    "            if(j==\"lnb\"):\n",
    "                print(\"lnb\", end=' ')\n",
    "                \n",
    "    elif(type(i)==dict):\n",
    "        for k,v in i.items():\n",
    "            if(k==\"lnb\" or v==\"lnb\"):\n",
    "                print(\"lnb\", end=' ')"
   ]
  },
  {
   "cell_type": "code",
   "execution_count": 14,
   "id": "f2dd61a7",
   "metadata": {},
   "outputs": [
    {
     "name": "stdout",
     "output_type": "stream",
     "text": [
      "dict_keys(['k', 'k2', 3, 7])\n"
     ]
    }
   ],
   "source": [
    "for i in l:\n",
    "    if(type(i)==dict):\n",
    "        print(i.keys())\n",
    "                \n",
    "    "
   ]
  },
  {
   "cell_type": "code",
   "execution_count": 15,
   "id": "7a514b7b",
   "metadata": {},
   "outputs": [
    {
     "name": "stdout",
     "output_type": "stream",
     "text": [
      "k raksha k2 lnb lnb datascience "
     ]
    }
   ],
   "source": [
    "for i in l:\n",
    "    if type(i)==str:\n",
    "        print(i)\n",
    "    \n",
    "    elif type(i)==list or type(i)==tuple or type(i)==set:\n",
    "        for j in i:\n",
    "            if type(j)==str:\n",
    "                print(j, end=' ')\n",
    "                \n",
    "    elif type(i)==dict:\n",
    "        for k,v in i.items():\n",
    "            if(type(k)==str):\n",
    "                print(k, end=' ')\n",
    "            if(type(v)==str):\n",
    "                print(v, end=' ')"
   ]
  },
  {
   "cell_type": "code",
   "execution_count": 16,
   "id": "5651a1fb",
   "metadata": {},
   "outputs": [
    {
     "name": "stdout",
     "output_type": "stream",
     "text": [
      "3 3 3 3 "
     ]
    }
   ],
   "source": [
    "for i in l:\n",
    "    if type(i)==3:\n",
    "        print(i)\n",
    "        \n",
    "        \n",
    "    \n",
    "    elif type(i)==list or type(i)==tuple or type(i)==set:\n",
    "        for j in i:\n",
    "            if j==3:\n",
    "                print(j, end=' ')\n",
    "                \n",
    "    elif type(i)==dict:\n",
    "        for k,v in i.items():\n",
    "            if(k==3 or v==3):\n",
    "                print(3, end=' ')\n",
    "    "
   ]
  }
 ],
 "metadata": {
  "kernelspec": {
   "display_name": "Python 3 (ipykernel)",
   "language": "python",
   "name": "python3"
  },
  "language_info": {
   "codemirror_mode": {
    "name": "ipython",
    "version": 3
   },
   "file_extension": ".py",
   "mimetype": "text/x-python",
   "name": "python",
   "nbconvert_exporter": "python",
   "pygments_lexer": "ipython3",
   "version": "3.10.7"
  }
 },
 "nbformat": 4,
 "nbformat_minor": 5
}
