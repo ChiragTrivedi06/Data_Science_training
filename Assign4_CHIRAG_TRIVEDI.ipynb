{
 "cells": [
  {
   "cell_type": "code",
   "execution_count": 24,
   "id": "299337f2",
   "metadata": {},
   "outputs": [
    {
     "name": "stdout",
     "output_type": "stream",
     "text": [
      "Enter first number: m\n",
      "Enter only Integer values\n"
     ]
    }
   ],
   "source": [
    "   \n",
    "try:\n",
    "    a=int(input(\"Enter first number: \"))\n",
    "    b=int(input(\"Enter second number: \"))\n",
    "\n",
    "   \n",
    "    c=a/b\n",
    "    \n",
    "except ValueError  as e :\n",
    "    print(\"Enter only Integer values\")\n",
    "    \n",
    "except ZeroDivisionError:\n",
    "    print(\"Not able to divide by Zero\")\n",
    "    \n",
    "else:\n",
    "    print(\"Division is: \", c)"
   ]
  }
 ],
 "metadata": {
  "kernelspec": {
   "display_name": "Python 3 (ipykernel)",
   "language": "python",
   "name": "python3"
  },
  "language_info": {
   "codemirror_mode": {
    "name": "ipython",
    "version": 3
   },
   "file_extension": ".py",
   "mimetype": "text/x-python",
   "name": "python",
   "nbconvert_exporter": "python",
   "pygments_lexer": "ipython3",
   "version": "3.10.7"
  }
 },
 "nbformat": 4,
 "nbformat_minor": 5
}
