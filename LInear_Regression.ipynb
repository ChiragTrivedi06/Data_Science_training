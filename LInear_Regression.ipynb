{
 "cells": [
  {
   "cell_type": "code",
   "execution_count": 24,
   "id": "88b6037e",
   "metadata": {},
   "outputs": [],
   "source": [
    "import pandas as pd"
   ]
  },
  {
   "cell_type": "code",
   "execution_count": 27,
   "id": "c0211bf3",
   "metadata": {},
   "outputs": [
    {
     "data": {
      "text/html": [
       "<div>\n",
       "<style scoped>\n",
       "    .dataframe tbody tr th:only-of-type {\n",
       "        vertical-align: middle;\n",
       "    }\n",
       "\n",
       "    .dataframe tbody tr th {\n",
       "        vertical-align: top;\n",
       "    }\n",
       "\n",
       "    .dataframe thead th {\n",
       "        text-align: right;\n",
       "    }\n",
       "</style>\n",
       "<table border=\"1\" class=\"dataframe\">\n",
       "  <thead>\n",
       "    <tr style=\"text-align: right;\">\n",
       "      <th></th>\n",
       "      <th>X</th>\n",
       "      <th>Y</th>\n",
       "    </tr>\n",
       "  </thead>\n",
       "  <tbody>\n",
       "    <tr>\n",
       "      <th>0</th>\n",
       "      <td>1</td>\n",
       "      <td>3.888889</td>\n",
       "    </tr>\n",
       "    <tr>\n",
       "      <th>1</th>\n",
       "      <td>2</td>\n",
       "      <td>4.555556</td>\n",
       "    </tr>\n",
       "    <tr>\n",
       "      <th>2</th>\n",
       "      <td>3</td>\n",
       "      <td>5.222222</td>\n",
       "    </tr>\n",
       "    <tr>\n",
       "      <th>3</th>\n",
       "      <td>4</td>\n",
       "      <td>5.888889</td>\n",
       "    </tr>\n",
       "    <tr>\n",
       "      <th>4</th>\n",
       "      <td>5</td>\n",
       "      <td>6.555556</td>\n",
       "    </tr>\n",
       "    <tr>\n",
       "      <th>...</th>\n",
       "      <td>...</td>\n",
       "      <td>...</td>\n",
       "    </tr>\n",
       "    <tr>\n",
       "      <th>295</th>\n",
       "      <td>296</td>\n",
       "      <td>200.555556</td>\n",
       "    </tr>\n",
       "    <tr>\n",
       "      <th>296</th>\n",
       "      <td>297</td>\n",
       "      <td>201.222222</td>\n",
       "    </tr>\n",
       "    <tr>\n",
       "      <th>297</th>\n",
       "      <td>298</td>\n",
       "      <td>201.888889</td>\n",
       "    </tr>\n",
       "    <tr>\n",
       "      <th>298</th>\n",
       "      <td>299</td>\n",
       "      <td>1.888889</td>\n",
       "    </tr>\n",
       "    <tr>\n",
       "      <th>299</th>\n",
       "      <td>300</td>\n",
       "      <td>1.888889</td>\n",
       "    </tr>\n",
       "  </tbody>\n",
       "</table>\n",
       "<p>300 rows × 2 columns</p>\n",
       "</div>"
      ],
      "text/plain": [
       "       X           Y\n",
       "0      1    3.888889\n",
       "1      2    4.555556\n",
       "2      3    5.222222\n",
       "3      4    5.888889\n",
       "4      5    6.555556\n",
       "..   ...         ...\n",
       "295  296  200.555556\n",
       "296  297  201.222222\n",
       "297  298  201.888889\n",
       "298  299    1.888889\n",
       "299  300    1.888889\n",
       "\n",
       "[300 rows x 2 columns]"
      ]
     },
     "execution_count": 27,
     "metadata": {},
     "output_type": "execute_result"
    }
   ],
   "source": [
    "# Loading the data\n",
    "data=pd.read_csv(\"Linear Regression - Sheet1.csv\")\n",
    "data"
   ]
  },
  {
   "cell_type": "code",
   "execution_count": 28,
   "id": "d1d8c9ea",
   "metadata": {},
   "outputs": [
    {
     "data": {
      "text/plain": [
       "(300, 2)"
      ]
     },
     "execution_count": 28,
     "metadata": {},
     "output_type": "execute_result"
    }
   ],
   "source": [
    "data.shape            # to show the shape of data"
   ]
  },
  {
   "cell_type": "code",
   "execution_count": 29,
   "id": "d21aaf72",
   "metadata": {},
   "outputs": [
    {
     "data": {
      "text/plain": [
       "X    0\n",
       "Y    0\n",
       "dtype: int64"
      ]
     },
     "execution_count": 29,
     "metadata": {},
     "output_type": "execute_result"
    }
   ],
   "source": [
    "data.isnull().sum()"
   ]
  },
  {
   "cell_type": "code",
   "execution_count": 30,
   "id": "7865bfdb",
   "metadata": {},
   "outputs": [
    {
     "data": {
      "text/plain": [
       "0"
      ]
     },
     "execution_count": 30,
     "metadata": {},
     "output_type": "execute_result"
    }
   ],
   "source": [
    "data.duplicated().sum()"
   ]
  },
  {
   "cell_type": "code",
   "execution_count": 31,
   "id": "9e046f90",
   "metadata": {},
   "outputs": [
    {
     "data": {
      "text/plain": [
       "Index(['X', 'Y'], dtype='object')"
      ]
     },
     "execution_count": 31,
     "metadata": {},
     "output_type": "execute_result"
    }
   ],
   "source": [
    "data.columns"
   ]
  },
  {
   "cell_type": "code",
   "execution_count": 36,
   "id": "6e74ff5a",
   "metadata": {},
   "outputs": [
    {
     "data": {
      "text/plain": [
       "array([  1,   2,   3,   4,   5,   6,   7,   8,   9,  10,  11,  12,  13,\n",
       "        14,  15,  16,  17,  18,  19,  20,  21,  22,  23,  24,  25,  26,\n",
       "        27,  28,  29,  30,  31,  32,  33,  34,  35,  36,  37,  38,  39,\n",
       "        40,  41,  42,  43,  44,  45,  46,  47,  48,  49,  50,  51,  52,\n",
       "        53,  54,  55,  56,  57,  58,  59,  60,  61,  62,  63,  64,  65,\n",
       "        66,  67,  68,  69,  70,  71,  72,  73,  74,  75,  76,  77,  78,\n",
       "        79,  80,  81,  82,  83,  84,  85,  86,  87,  88,  89,  90,  91,\n",
       "        92,  93,  94,  95,  96,  97,  98,  99, 100, 101, 102, 103, 104,\n",
       "       105, 106, 107, 108, 109, 110, 111, 112, 113, 114, 115, 116, 117,\n",
       "       118, 119, 120, 121, 122, 123, 124, 125, 126, 127, 128, 129, 130,\n",
       "       131, 132, 133, 134, 135, 136, 137, 138, 139, 140, 141, 142, 143,\n",
       "       144, 145, 146, 147, 148, 149, 150, 151, 152, 153, 154, 155, 156,\n",
       "       157, 158, 159, 160, 161, 162, 163, 164, 165, 166, 167, 168, 169,\n",
       "       170, 171, 172, 173, 174, 175, 176, 177, 178, 179, 180, 181, 182,\n",
       "       183, 184, 185, 186, 187, 188, 189, 190, 191, 192, 193, 194, 195,\n",
       "       196, 197, 198, 199, 200, 201, 202, 203, 204, 205, 206, 207, 208,\n",
       "       209, 210, 211, 212, 213, 214, 215, 216, 217, 218, 219, 220, 221,\n",
       "       222, 223, 224, 225, 226, 227, 228, 229, 230, 231, 232, 233, 234,\n",
       "       235, 236, 237, 238, 239, 240, 241, 242, 243, 244, 245, 246, 247,\n",
       "       248, 249, 250, 251, 252, 253, 254, 255, 256, 257, 258, 259, 260,\n",
       "       261, 262, 263, 264, 265, 266, 267, 268, 269, 270, 271, 272, 273,\n",
       "       274, 275, 276, 277, 278, 279, 280, 281, 282, 283, 284, 285, 286,\n",
       "       287, 288, 289, 290, 291, 292, 293, 294, 295, 296, 297, 298, 299,\n",
       "       300], dtype=int64)"
      ]
     },
     "execution_count": 36,
     "metadata": {},
     "output_type": "execute_result"
    }
   ],
   "source": [
    "X=data['X'].values\n",
    "X\n"
   ]
  },
  {
   "cell_type": "code",
   "execution_count": 34,
   "id": "ab9c651d",
   "metadata": {},
   "outputs": [
    {
     "data": {
      "text/plain": [
       "array([  3.88888889,   4.55555556,   5.22222222,   5.88888889,\n",
       "         6.55555556,   7.22222222,   7.88888889,   8.55555556,\n",
       "         9.22222222,   9.88888889,  10.55555556,  11.22222222,\n",
       "        11.88888889,  12.55555556,  13.22222222,  13.88888889,\n",
       "        14.55555556,  15.22222222,  15.88888889,  16.55555556,\n",
       "        17.22222222,  17.88888889,  18.55555556,  19.22222222,\n",
       "        19.88888889,  20.55555556,  21.22222222,  21.88888889,\n",
       "        22.55555556,  23.22222222,  23.88888889,  24.55555556,\n",
       "        25.22222222,  25.88888889,  26.55555556,  27.22222222,\n",
       "        27.88888889,  28.55555556,  29.22222222,  29.88888889,\n",
       "        30.55555556,  31.22222222,  31.88888889,  32.55555556,\n",
       "        33.22222222,  33.88888889,  34.55555556,  35.22222222,\n",
       "        35.88888889,  36.55555556,  37.22222222,  37.88888889,\n",
       "        38.55555556,  39.22222222,  39.88888889,  40.55555556,\n",
       "        41.22222222,  41.88888889,  42.55555556,  43.22222222,\n",
       "        43.88888889,  44.55555556,  45.22222222,  45.88888889,\n",
       "        46.55555556,  47.22222222,  47.88888889,  48.55555556,\n",
       "        49.22222222,  49.88888889,  50.55555556,  51.22222222,\n",
       "        51.88888889,  52.55555556,  53.22222222,  53.88888889,\n",
       "        54.55555556,  55.22222222,  55.88888889,  56.55555556,\n",
       "        57.22222222,  57.88888889,  58.55555556,  59.22222222,\n",
       "        59.88888889,  60.55555556,  61.22222222,  61.88888889,\n",
       "        62.55555556,  63.22222222,  63.88888889,  64.55555556,\n",
       "        65.22222222,  65.88888889,  66.55555556,  67.22222222,\n",
       "        67.88888889,  68.55555556,  69.22222222,  69.88888889,\n",
       "        70.55555556,  71.22222222,  71.88888889,  72.55555556,\n",
       "        73.22222222,  73.88888889,  74.55555556,  75.22222222,\n",
       "        75.88888889,  76.55555556,  77.22222222,  77.88888889,\n",
       "        78.55555556,  79.22222222,  79.88888889,  80.55555556,\n",
       "        81.22222222,  81.88888889,  82.55555556,  83.22222222,\n",
       "        83.88888889,  84.55555556,  85.22222222,  85.88888889,\n",
       "        86.55555556,  87.22222222,  87.88888889,  88.55555556,\n",
       "        89.22222222,  89.88888889,  90.55555556,  91.22222222,\n",
       "        91.88888889,  92.55555556,  93.22222222,  93.88888889,\n",
       "        94.55555556,  95.22222222,  95.88888889,  96.55555556,\n",
       "        97.22222222,  97.88888889,  98.55555556,  99.22222222,\n",
       "        99.88888889, 100.5555556 , 101.2222222 , 101.8888889 ,\n",
       "       102.5555556 , 103.2222222 , 103.8888889 , 104.5555556 ,\n",
       "       105.2222222 , 105.8888889 , 106.5555556 , 107.2222222 ,\n",
       "       107.8888889 , 108.5555556 , 109.2222222 , 109.8888889 ,\n",
       "       110.5555556 , 111.2222222 , 111.8888889 , 112.5555556 ,\n",
       "       113.2222222 , 113.8888889 , 114.5555556 , 115.2222222 ,\n",
       "       115.8888889 , 116.5555556 , 117.2222222 , 117.8888889 ,\n",
       "       118.5555556 , 119.2222222 , 119.8888889 , 120.5555556 ,\n",
       "       121.2222222 , 121.8888889 , 122.5555556 , 123.2222222 ,\n",
       "       123.8888889 , 124.5555556 , 125.2222222 , 125.8888889 ,\n",
       "       126.5555556 , 127.2222222 , 127.8888889 , 128.5555556 ,\n",
       "       129.2222222 , 129.8888889 , 130.5555556 , 131.2222222 ,\n",
       "       131.8888889 , 132.5555556 , 133.2222222 , 133.8888889 ,\n",
       "       134.5555556 , 135.2222222 , 135.8888889 , 136.5555556 ,\n",
       "       137.2222222 , 137.8888889 , 138.5555556 , 139.2222222 ,\n",
       "       139.8888889 , 140.5555556 , 141.2222222 , 141.8888889 ,\n",
       "       142.5555556 , 143.2222222 , 143.8888889 , 144.5555556 ,\n",
       "       145.2222222 , 145.8888889 , 146.5555556 , 147.2222222 ,\n",
       "       147.8888889 , 148.5555556 , 149.2222222 , 149.8888889 ,\n",
       "       150.5555556 , 151.2222222 , 151.8888889 , 152.5555556 ,\n",
       "       153.2222222 , 153.8888889 , 154.5555556 , 155.2222222 ,\n",
       "       155.8888889 , 156.5555556 , 157.2222222 , 157.8888889 ,\n",
       "       158.5555556 , 159.2222222 , 159.8888889 , 160.5555556 ,\n",
       "       161.2222222 , 161.8888889 , 162.5555556 , 163.2222222 ,\n",
       "       163.8888889 , 164.5555556 , 165.2222222 , 165.8888889 ,\n",
       "       166.5555556 , 167.2222222 , 167.8888889 , 168.5555556 ,\n",
       "       169.2222222 , 169.8888889 , 170.5555556 , 171.2222222 ,\n",
       "       171.8888889 , 172.5555556 , 173.2222222 , 173.8888889 ,\n",
       "       174.5555556 , 175.2222222 , 175.8888889 , 176.5555556 ,\n",
       "       177.2222222 , 177.8888889 , 178.5555556 , 179.2222222 ,\n",
       "       179.8888889 , 180.5555556 , 181.2222222 , 181.8888889 ,\n",
       "       182.5555556 , 183.2222222 , 183.8888889 , 184.5555556 ,\n",
       "       185.2222222 , 185.8888889 , 186.5555556 , 187.2222222 ,\n",
       "       187.8888889 , 188.5555556 , 189.2222222 , 189.8888889 ,\n",
       "       190.5555556 , 191.2222222 , 191.8888889 , 192.5555556 ,\n",
       "       193.2222222 , 193.8888889 , 194.5555556 , 195.2222222 ,\n",
       "       195.8888889 , 196.5555556 , 197.2222222 , 197.8888889 ,\n",
       "       198.5555556 , 199.2222222 , 199.8888889 , 200.5555556 ,\n",
       "       201.2222222 , 201.8888889 ,   1.88888889,   1.88888889])"
      ]
     },
     "execution_count": 34,
     "metadata": {},
     "output_type": "execute_result"
    }
   ],
   "source": [
    "Y=data[ 'Y'].values\n",
    "Y\n"
   ]
  },
  {
   "cell_type": "code",
   "execution_count": 37,
   "id": "ed582434",
   "metadata": {},
   "outputs": [
    {
     "name": "stdout",
     "output_type": "stream",
     "text": [
      "(300,)\n",
      "(300,)\n"
     ]
    }
   ],
   "source": [
    "print(X.shape)\n",
    "print(Y.shape)"
   ]
  },
  {
   "cell_type": "code",
   "execution_count": 38,
   "id": "c0c458b6",
   "metadata": {},
   "outputs": [
    {
     "data": {
      "text/plain": [
       "array([[  1],\n",
       "       [  2],\n",
       "       [  3],\n",
       "       [  4],\n",
       "       [  5],\n",
       "       [  6],\n",
       "       [  7],\n",
       "       [  8],\n",
       "       [  9],\n",
       "       [ 10],\n",
       "       [ 11],\n",
       "       [ 12],\n",
       "       [ 13],\n",
       "       [ 14],\n",
       "       [ 15],\n",
       "       [ 16],\n",
       "       [ 17],\n",
       "       [ 18],\n",
       "       [ 19],\n",
       "       [ 20],\n",
       "       [ 21],\n",
       "       [ 22],\n",
       "       [ 23],\n",
       "       [ 24],\n",
       "       [ 25],\n",
       "       [ 26],\n",
       "       [ 27],\n",
       "       [ 28],\n",
       "       [ 29],\n",
       "       [ 30],\n",
       "       [ 31],\n",
       "       [ 32],\n",
       "       [ 33],\n",
       "       [ 34],\n",
       "       [ 35],\n",
       "       [ 36],\n",
       "       [ 37],\n",
       "       [ 38],\n",
       "       [ 39],\n",
       "       [ 40],\n",
       "       [ 41],\n",
       "       [ 42],\n",
       "       [ 43],\n",
       "       [ 44],\n",
       "       [ 45],\n",
       "       [ 46],\n",
       "       [ 47],\n",
       "       [ 48],\n",
       "       [ 49],\n",
       "       [ 50],\n",
       "       [ 51],\n",
       "       [ 52],\n",
       "       [ 53],\n",
       "       [ 54],\n",
       "       [ 55],\n",
       "       [ 56],\n",
       "       [ 57],\n",
       "       [ 58],\n",
       "       [ 59],\n",
       "       [ 60],\n",
       "       [ 61],\n",
       "       [ 62],\n",
       "       [ 63],\n",
       "       [ 64],\n",
       "       [ 65],\n",
       "       [ 66],\n",
       "       [ 67],\n",
       "       [ 68],\n",
       "       [ 69],\n",
       "       [ 70],\n",
       "       [ 71],\n",
       "       [ 72],\n",
       "       [ 73],\n",
       "       [ 74],\n",
       "       [ 75],\n",
       "       [ 76],\n",
       "       [ 77],\n",
       "       [ 78],\n",
       "       [ 79],\n",
       "       [ 80],\n",
       "       [ 81],\n",
       "       [ 82],\n",
       "       [ 83],\n",
       "       [ 84],\n",
       "       [ 85],\n",
       "       [ 86],\n",
       "       [ 87],\n",
       "       [ 88],\n",
       "       [ 89],\n",
       "       [ 90],\n",
       "       [ 91],\n",
       "       [ 92],\n",
       "       [ 93],\n",
       "       [ 94],\n",
       "       [ 95],\n",
       "       [ 96],\n",
       "       [ 97],\n",
       "       [ 98],\n",
       "       [ 99],\n",
       "       [100],\n",
       "       [101],\n",
       "       [102],\n",
       "       [103],\n",
       "       [104],\n",
       "       [105],\n",
       "       [106],\n",
       "       [107],\n",
       "       [108],\n",
       "       [109],\n",
       "       [110],\n",
       "       [111],\n",
       "       [112],\n",
       "       [113],\n",
       "       [114],\n",
       "       [115],\n",
       "       [116],\n",
       "       [117],\n",
       "       [118],\n",
       "       [119],\n",
       "       [120],\n",
       "       [121],\n",
       "       [122],\n",
       "       [123],\n",
       "       [124],\n",
       "       [125],\n",
       "       [126],\n",
       "       [127],\n",
       "       [128],\n",
       "       [129],\n",
       "       [130],\n",
       "       [131],\n",
       "       [132],\n",
       "       [133],\n",
       "       [134],\n",
       "       [135],\n",
       "       [136],\n",
       "       [137],\n",
       "       [138],\n",
       "       [139],\n",
       "       [140],\n",
       "       [141],\n",
       "       [142],\n",
       "       [143],\n",
       "       [144],\n",
       "       [145],\n",
       "       [146],\n",
       "       [147],\n",
       "       [148],\n",
       "       [149],\n",
       "       [150],\n",
       "       [151],\n",
       "       [152],\n",
       "       [153],\n",
       "       [154],\n",
       "       [155],\n",
       "       [156],\n",
       "       [157],\n",
       "       [158],\n",
       "       [159],\n",
       "       [160],\n",
       "       [161],\n",
       "       [162],\n",
       "       [163],\n",
       "       [164],\n",
       "       [165],\n",
       "       [166],\n",
       "       [167],\n",
       "       [168],\n",
       "       [169],\n",
       "       [170],\n",
       "       [171],\n",
       "       [172],\n",
       "       [173],\n",
       "       [174],\n",
       "       [175],\n",
       "       [176],\n",
       "       [177],\n",
       "       [178],\n",
       "       [179],\n",
       "       [180],\n",
       "       [181],\n",
       "       [182],\n",
       "       [183],\n",
       "       [184],\n",
       "       [185],\n",
       "       [186],\n",
       "       [187],\n",
       "       [188],\n",
       "       [189],\n",
       "       [190],\n",
       "       [191],\n",
       "       [192],\n",
       "       [193],\n",
       "       [194],\n",
       "       [195],\n",
       "       [196],\n",
       "       [197],\n",
       "       [198],\n",
       "       [199],\n",
       "       [200],\n",
       "       [201],\n",
       "       [202],\n",
       "       [203],\n",
       "       [204],\n",
       "       [205],\n",
       "       [206],\n",
       "       [207],\n",
       "       [208],\n",
       "       [209],\n",
       "       [210],\n",
       "       [211],\n",
       "       [212],\n",
       "       [213],\n",
       "       [214],\n",
       "       [215],\n",
       "       [216],\n",
       "       [217],\n",
       "       [218],\n",
       "       [219],\n",
       "       [220],\n",
       "       [221],\n",
       "       [222],\n",
       "       [223],\n",
       "       [224],\n",
       "       [225],\n",
       "       [226],\n",
       "       [227],\n",
       "       [228],\n",
       "       [229],\n",
       "       [230],\n",
       "       [231],\n",
       "       [232],\n",
       "       [233],\n",
       "       [234],\n",
       "       [235],\n",
       "       [236],\n",
       "       [237],\n",
       "       [238],\n",
       "       [239],\n",
       "       [240],\n",
       "       [241],\n",
       "       [242],\n",
       "       [243],\n",
       "       [244],\n",
       "       [245],\n",
       "       [246],\n",
       "       [247],\n",
       "       [248],\n",
       "       [249],\n",
       "       [250],\n",
       "       [251],\n",
       "       [252],\n",
       "       [253],\n",
       "       [254],\n",
       "       [255],\n",
       "       [256],\n",
       "       [257],\n",
       "       [258],\n",
       "       [259],\n",
       "       [260],\n",
       "       [261],\n",
       "       [262],\n",
       "       [263],\n",
       "       [264],\n",
       "       [265],\n",
       "       [266],\n",
       "       [267],\n",
       "       [268],\n",
       "       [269],\n",
       "       [270],\n",
       "       [271],\n",
       "       [272],\n",
       "       [273],\n",
       "       [274],\n",
       "       [275],\n",
       "       [276],\n",
       "       [277],\n",
       "       [278],\n",
       "       [279],\n",
       "       [280],\n",
       "       [281],\n",
       "       [282],\n",
       "       [283],\n",
       "       [284],\n",
       "       [285],\n",
       "       [286],\n",
       "       [287],\n",
       "       [288],\n",
       "       [289],\n",
       "       [290],\n",
       "       [291],\n",
       "       [292],\n",
       "       [293],\n",
       "       [294],\n",
       "       [295],\n",
       "       [296],\n",
       "       [297],\n",
       "       [298],\n",
       "       [299],\n",
       "       [300]], dtype=int64)"
      ]
     },
     "execution_count": 38,
     "metadata": {},
     "output_type": "execute_result"
    }
   ],
   "source": [
    "X=X.reshape(X.shape[0],1)\n",
    "X"
   ]
  },
  {
   "cell_type": "code",
   "execution_count": 39,
   "id": "da620390",
   "metadata": {},
   "outputs": [
    {
     "data": {
      "text/plain": [
       "(300, 1)"
      ]
     },
     "execution_count": 39,
     "metadata": {},
     "output_type": "execute_result"
    }
   ],
   "source": [
    "Y=Y.reshape(Y.shape[0],1)\n",
    "Y.shape"
   ]
  },
  {
   "cell_type": "code",
   "execution_count": 40,
   "id": "5cdd79b5",
   "metadata": {},
   "outputs": [],
   "source": [
    "from sklearn.model_selection import train_test_split\n",
    "X_train,X_test,Y_train,Y_test=train_test_split(X,Y,test_size=0.2,random_state=2)"
   ]
  },
  {
   "cell_type": "code",
   "execution_count": 41,
   "id": "4e0b8759",
   "metadata": {},
   "outputs": [
    {
     "data": {
      "text/plain": [
       "(240, 1)"
      ]
     },
     "execution_count": 41,
     "metadata": {},
     "output_type": "execute_result"
    }
   ],
   "source": [
    "X_train.shape"
   ]
  },
  {
   "cell_type": "code",
   "execution_count": 42,
   "id": "cb084b69",
   "metadata": {},
   "outputs": [
    {
     "data": {
      "text/plain": [
       "(60, 1)"
      ]
     },
     "execution_count": 42,
     "metadata": {},
     "output_type": "execute_result"
    }
   ],
   "source": [
    "X_test.shape\n"
   ]
  },
  {
   "cell_type": "code",
   "execution_count": 43,
   "id": "468b0f9f",
   "metadata": {},
   "outputs": [],
   "source": [
    "from sklearn.linear_model import LinearRegression"
   ]
  },
  {
   "cell_type": "code",
   "execution_count": 44,
   "id": "910856cb",
   "metadata": {},
   "outputs": [
    {
     "data": {
      "text/html": [
       "<style>#sk-container-id-2 {color: black;background-color: white;}#sk-container-id-2 pre{padding: 0;}#sk-container-id-2 div.sk-toggleable {background-color: white;}#sk-container-id-2 label.sk-toggleable__label {cursor: pointer;display: block;width: 100%;margin-bottom: 0;padding: 0.3em;box-sizing: border-box;text-align: center;}#sk-container-id-2 label.sk-toggleable__label-arrow:before {content: \"▸\";float: left;margin-right: 0.25em;color: #696969;}#sk-container-id-2 label.sk-toggleable__label-arrow:hover:before {color: black;}#sk-container-id-2 div.sk-estimator:hover label.sk-toggleable__label-arrow:before {color: black;}#sk-container-id-2 div.sk-toggleable__content {max-height: 0;max-width: 0;overflow: hidden;text-align: left;background-color: #f0f8ff;}#sk-container-id-2 div.sk-toggleable__content pre {margin: 0.2em;color: black;border-radius: 0.25em;background-color: #f0f8ff;}#sk-container-id-2 input.sk-toggleable__control:checked~div.sk-toggleable__content {max-height: 200px;max-width: 100%;overflow: auto;}#sk-container-id-2 input.sk-toggleable__control:checked~label.sk-toggleable__label-arrow:before {content: \"▾\";}#sk-container-id-2 div.sk-estimator input.sk-toggleable__control:checked~label.sk-toggleable__label {background-color: #d4ebff;}#sk-container-id-2 div.sk-label input.sk-toggleable__control:checked~label.sk-toggleable__label {background-color: #d4ebff;}#sk-container-id-2 input.sk-hidden--visually {border: 0;clip: rect(1px 1px 1px 1px);clip: rect(1px, 1px, 1px, 1px);height: 1px;margin: -1px;overflow: hidden;padding: 0;position: absolute;width: 1px;}#sk-container-id-2 div.sk-estimator {font-family: monospace;background-color: #f0f8ff;border: 1px dotted black;border-radius: 0.25em;box-sizing: border-box;margin-bottom: 0.5em;}#sk-container-id-2 div.sk-estimator:hover {background-color: #d4ebff;}#sk-container-id-2 div.sk-parallel-item::after {content: \"\";width: 100%;border-bottom: 1px solid gray;flex-grow: 1;}#sk-container-id-2 div.sk-label:hover label.sk-toggleable__label {background-color: #d4ebff;}#sk-container-id-2 div.sk-serial::before {content: \"\";position: absolute;border-left: 1px solid gray;box-sizing: border-box;top: 0;bottom: 0;left: 50%;z-index: 0;}#sk-container-id-2 div.sk-serial {display: flex;flex-direction: column;align-items: center;background-color: white;padding-right: 0.2em;padding-left: 0.2em;position: relative;}#sk-container-id-2 div.sk-item {position: relative;z-index: 1;}#sk-container-id-2 div.sk-parallel {display: flex;align-items: stretch;justify-content: center;background-color: white;position: relative;}#sk-container-id-2 div.sk-item::before, #sk-container-id-2 div.sk-parallel-item::before {content: \"\";position: absolute;border-left: 1px solid gray;box-sizing: border-box;top: 0;bottom: 0;left: 50%;z-index: -1;}#sk-container-id-2 div.sk-parallel-item {display: flex;flex-direction: column;z-index: 1;position: relative;background-color: white;}#sk-container-id-2 div.sk-parallel-item:first-child::after {align-self: flex-end;width: 50%;}#sk-container-id-2 div.sk-parallel-item:last-child::after {align-self: flex-start;width: 50%;}#sk-container-id-2 div.sk-parallel-item:only-child::after {width: 0;}#sk-container-id-2 div.sk-dashed-wrapped {border: 1px dashed gray;margin: 0 0.4em 0.5em 0.4em;box-sizing: border-box;padding-bottom: 0.4em;background-color: white;}#sk-container-id-2 div.sk-label label {font-family: monospace;font-weight: bold;display: inline-block;line-height: 1.2em;}#sk-container-id-2 div.sk-label-container {text-align: center;}#sk-container-id-2 div.sk-container {/* jupyter's `normalize.less` sets `[hidden] { display: none; }` but bootstrap.min.css set `[hidden] { display: none !important; }` so we also need the `!important` here to be able to override the default hidden behavior on the sphinx rendered scikit-learn.org. See: https://github.com/scikit-learn/scikit-learn/issues/21755 */display: inline-block !important;position: relative;}#sk-container-id-2 div.sk-text-repr-fallback {display: none;}</style><div id=\"sk-container-id-2\" class=\"sk-top-container\"><div class=\"sk-text-repr-fallback\"><pre>LinearRegression()</pre><b>In a Jupyter environment, please rerun this cell to show the HTML representation or trust the notebook. <br />On GitHub, the HTML representation is unable to render, please try loading this page with nbviewer.org.</b></div><div class=\"sk-container\" hidden><div class=\"sk-item\"><div class=\"sk-estimator sk-toggleable\"><input class=\"sk-toggleable__control sk-hidden--visually\" id=\"sk-estimator-id-2\" type=\"checkbox\" checked><label for=\"sk-estimator-id-2\" class=\"sk-toggleable__label sk-toggleable__label-arrow\">LinearRegression</label><div class=\"sk-toggleable__content\"><pre>LinearRegression()</pre></div></div></div></div></div>"
      ],
      "text/plain": [
       "LinearRegression()"
      ]
     },
     "execution_count": 44,
     "metadata": {},
     "output_type": "execute_result"
    }
   ],
   "source": [
    "reg=LinearRegression()\n",
    "reg.fit(X_train,Y_train)"
   ]
  },
  {
   "cell_type": "code",
   "execution_count": 45,
   "id": "973c1881",
   "metadata": {},
   "outputs": [
    {
     "data": {
      "text/plain": [
       "array([[ 99],\n",
       "       [260],\n",
       "       [185],\n",
       "       [257],\n",
       "       [ 30],\n",
       "       [255],\n",
       "       [  8],\n",
       "       [ 14],\n",
       "       [231],\n",
       "       [ 92],\n",
       "       [285],\n",
       "       [128],\n",
       "       [ 31],\n",
       "       [242],\n",
       "       [114],\n",
       "       [ 85],\n",
       "       [100],\n",
       "       [141],\n",
       "       [145],\n",
       "       [ 95],\n",
       "       [ 36],\n",
       "       [  4],\n",
       "       [174],\n",
       "       [176],\n",
       "       [216],\n",
       "       [ 90],\n",
       "       [204],\n",
       "       [194],\n",
       "       [267],\n",
       "       [282],\n",
       "       [132],\n",
       "       [210],\n",
       "       [272],\n",
       "       [162],\n",
       "       [177],\n",
       "       [175],\n",
       "       [246],\n",
       "       [290],\n",
       "       [ 75],\n",
       "       [110],\n",
       "       [156],\n",
       "       [ 66],\n",
       "       [ 42],\n",
       "       [ 12],\n",
       "       [294],\n",
       "       [241],\n",
       "       [131],\n",
       "       [115],\n",
       "       [ 78],\n",
       "       [172],\n",
       "       [236],\n",
       "       [273],\n",
       "       [135],\n",
       "       [215],\n",
       "       [152],\n",
       "       [ 11],\n",
       "       [160],\n",
       "       [200],\n",
       "       [233],\n",
       "       [181]], dtype=int64)"
      ]
     },
     "execution_count": 45,
     "metadata": {},
     "output_type": "execute_result"
    }
   ],
   "source": [
    "X_test"
   ]
  },
  {
   "cell_type": "code",
   "execution_count": 60,
   "id": "56f17970",
   "metadata": {},
   "outputs": [
    {
     "data": {
      "text/plain": [
       "array([[ 69.22222222],\n",
       "       [176.5555556 ],\n",
       "       [126.5555556 ],\n",
       "       [174.5555556 ],\n",
       "       [ 23.22222222],\n",
       "       [173.2222222 ],\n",
       "       [  8.55555556],\n",
       "       [ 12.55555556],\n",
       "       [157.2222222 ],\n",
       "       [ 64.55555556],\n",
       "       [193.2222222 ],\n",
       "       [ 88.55555556],\n",
       "       [ 23.88888889],\n",
       "       [164.5555556 ],\n",
       "       [ 79.22222222],\n",
       "       [ 59.88888889],\n",
       "       [ 69.88888889],\n",
       "       [ 97.22222222],\n",
       "       [ 99.88888889],\n",
       "       [ 66.55555556],\n",
       "       [ 27.22222222],\n",
       "       [  5.88888889],\n",
       "       [119.2222222 ],\n",
       "       [120.5555556 ],\n",
       "       [147.2222222 ],\n",
       "       [ 63.22222222],\n",
       "       [139.2222222 ],\n",
       "       [132.5555556 ],\n",
       "       [181.2222222 ],\n",
       "       [191.2222222 ],\n",
       "       [ 91.22222222],\n",
       "       [143.2222222 ],\n",
       "       [184.5555556 ],\n",
       "       [111.2222222 ],\n",
       "       [121.2222222 ],\n",
       "       [119.8888889 ],\n",
       "       [167.2222222 ],\n",
       "       [196.5555556 ],\n",
       "       [ 53.22222222],\n",
       "       [ 76.55555556],\n",
       "       [107.2222222 ],\n",
       "       [ 47.22222222],\n",
       "       [ 31.22222222],\n",
       "       [ 11.22222222],\n",
       "       [199.2222222 ],\n",
       "       [163.8888889 ],\n",
       "       [ 90.55555556],\n",
       "       [ 79.88888889],\n",
       "       [ 55.22222222],\n",
       "       [117.8888889 ],\n",
       "       [160.5555556 ],\n",
       "       [185.2222222 ],\n",
       "       [ 93.22222222],\n",
       "       [146.5555556 ],\n",
       "       [104.5555556 ],\n",
       "       [ 10.55555556],\n",
       "       [109.8888889 ],\n",
       "       [136.5555556 ],\n",
       "       [158.5555556 ],\n",
       "       [123.8888889 ]])"
      ]
     },
     "execution_count": 60,
     "metadata": {},
     "output_type": "execute_result"
    }
   ],
   "source": [
    "Y_test"
   ]
  },
  {
   "cell_type": "code",
   "execution_count": 47,
   "id": "8a8d8312",
   "metadata": {},
   "outputs": [],
   "source": [
    "Y_predict=reg.predict(X_test)\n",
    "err=Y_test-Y_predict"
   ]
  },
  {
   "cell_type": "code",
   "execution_count": 48,
   "id": "bc5077bf",
   "metadata": {},
   "outputs": [
    {
     "data": {
      "text/plain": [
       "array([[ 69.2007289 ],\n",
       "       [171.20888323],\n",
       "       [123.68955668],\n",
       "       [169.30811017],\n",
       "       [ 25.48294847],\n",
       "       [168.04092813],\n",
       "       [ 11.54394601],\n",
       "       [ 15.34549214],\n",
       "       [152.83474363],\n",
       "       [ 64.76559175],\n",
       "       [187.04865875],\n",
       "       [ 87.5748685 ],\n",
       "       [ 26.11653949],\n",
       "       [159.80424486],\n",
       "       [ 78.70459421],\n",
       "       [ 60.33045461],\n",
       "       [ 69.83431992],\n",
       "       [ 95.81155177],\n",
       "       [ 98.34591585],\n",
       "       [ 66.66636481],\n",
       "       [ 29.28449459],\n",
       "       [  9.00958193],\n",
       "       [116.72005545],\n",
       "       [117.98723749],\n",
       "       [143.33087832],\n",
       "       [ 63.49840971],\n",
       "       [135.72778607],\n",
       "       [129.39187586],\n",
       "       [175.64402038],\n",
       "       [185.14788569],\n",
       "       [ 90.10923258],\n",
       "       [139.52933219],\n",
       "       [178.81197548],\n",
       "       [109.1169632 ],\n",
       "       [118.62082851],\n",
       "       [117.35364647],\n",
       "       [162.33860894],\n",
       "       [190.21661385],\n",
       "       [ 53.9945444 ],\n",
       "       [ 76.17023012],\n",
       "       [105.31541708],\n",
       "       [ 48.29222521],\n",
       "       [ 33.08604072],\n",
       "       [ 14.07831009],\n",
       "       [192.75097793],\n",
       "       [159.17065384],\n",
       "       [ 89.47564156],\n",
       "       [ 79.33818523],\n",
       "       [ 55.89531746],\n",
       "       [115.45287341],\n",
       "       [156.00269873],\n",
       "       [179.4455665 ],\n",
       "       [ 92.01000564],\n",
       "       [142.6972873 ],\n",
       "       [102.78105299],\n",
       "       [ 13.44471907],\n",
       "       [107.84978116],\n",
       "       [133.19342199],\n",
       "       [154.10192567],\n",
       "       [121.15519259]])"
      ]
     },
     "execution_count": 48,
     "metadata": {},
     "output_type": "execute_result"
    }
   ],
   "source": [
    "Y_predict"
   ]
  },
  {
   "cell_type": "code",
   "execution_count": 52,
   "id": "4f54ed73",
   "metadata": {},
   "outputs": [
    {
     "data": {
      "text/plain": [
       "array([[ 0.02149332],\n",
       "       [ 5.34667237],\n",
       "       [ 2.86599892],\n",
       "       [ 5.24744543],\n",
       "       [-2.26072625],\n",
       "       [ 5.18129407],\n",
       "       [-2.98839046],\n",
       "       [-2.78993658],\n",
       "       [ 4.38747857],\n",
       "       [-0.21003619],\n",
       "       [ 6.17356345],\n",
       "       [ 0.98068706],\n",
       "       [-2.2276506 ],\n",
       "       [ 4.75131074],\n",
       "       [ 0.51762801],\n",
       "       [-0.44156572],\n",
       "       [ 0.05456897],\n",
       "       [ 1.41067045],\n",
       "       [ 1.54297304],\n",
       "       [-0.11080925],\n",
       "       [-2.06227237],\n",
       "       [-3.12069304],\n",
       "       [ 2.50216675],\n",
       "       [ 2.56831811],\n",
       "       [ 3.89134388],\n",
       "       [-0.27618749],\n",
       "       [ 3.49443613],\n",
       "       [ 3.16367974],\n",
       "       [ 5.57820182],\n",
       "       [ 6.07433651],\n",
       "       [ 1.11298964],\n",
       "       [ 3.69289001],\n",
       "       [ 5.74358012],\n",
       "       [ 2.105259  ],\n",
       "       [ 2.60139369],\n",
       "       [ 2.53524243],\n",
       "       [ 4.88361326],\n",
       "       [ 6.33894175],\n",
       "       [-0.77232218],\n",
       "       [ 0.38532544],\n",
       "       [ 1.90680512],\n",
       "       [-1.07000299],\n",
       "       [-1.8638185 ],\n",
       "       [-2.85608787],\n",
       "       [ 6.47124427],\n",
       "       [ 4.71823506],\n",
       "       [ 1.079914  ],\n",
       "       [ 0.55070366],\n",
       "       [-0.67309524],\n",
       "       [ 2.43601549],\n",
       "       [ 4.55285687],\n",
       "       [ 5.7766557 ],\n",
       "       [ 1.21221658],\n",
       "       [ 3.8582683 ],\n",
       "       [ 1.77450261],\n",
       "       [-2.88916351],\n",
       "       [ 2.03910774],\n",
       "       [ 3.36213361],\n",
       "       [ 4.45362993],\n",
       "       [ 2.73369631]])"
      ]
     },
     "execution_count": 52,
     "metadata": {},
     "output_type": "execute_result"
    }
   ],
   "source": [
    "err"
   ]
  },
  {
   "cell_type": "code",
   "execution_count": 62,
   "id": "0e0765f9",
   "metadata": {},
   "outputs": [
    {
     "name": "stdout",
     "output_type": "stream",
     "text": [
      "[[9.95996846]]\n"
     ]
    }
   ],
   "source": [
    "Y_custom=reg.predict([[5.5]])\n",
    "print(Y_custom)"
   ]
  },
  {
   "cell_type": "code",
   "execution_count": 64,
   "id": "e7fd6f76",
   "metadata": {},
   "outputs": [
    {
     "data": {
      "text/plain": [
       "array([[0.63359102]])"
      ]
     },
     "execution_count": 64,
     "metadata": {},
     "output_type": "execute_result"
    }
   ],
   "source": [
    "m=reg.coef_\n",
    "m"
   ]
  },
  {
   "cell_type": "code",
   "execution_count": 65,
   "id": "2625fd11",
   "metadata": {},
   "outputs": [
    {
     "data": {
      "text/plain": [
       "array([6.47521785])"
      ]
     },
     "execution_count": 65,
     "metadata": {},
     "output_type": "execute_result"
    }
   ],
   "source": [
    "c=reg.intercept_\n",
    "c"
   ]
  },
  {
   "cell_type": "code",
   "execution_count": 67,
   "id": "8992977c",
   "metadata": {},
   "outputs": [
    {
     "name": "stdout",
     "output_type": "stream",
     "text": [
      "9.959968459999999\n"
     ]
    }
   ],
   "source": [
    "y2=5.5*reg.coef_+reg.intercept_      #this is same as predicted value\n",
    "y1=5.5*0.63359102+6.47521785\n",
    "print(y1)                "
   ]
  },
  {
   "cell_type": "code",
   "execution_count": 68,
   "id": "e488b314",
   "metadata": {
    "scrolled": true
   },
   "outputs": [
    {
     "data": {
      "image/png": "[encoded data removed]",
      "text/plain": [
       "<Figure size 640x480 with 1 Axes>"
      ]
     },
     "metadata": {},
     "output_type": "display_data"
    }
   ],
   "source": [
    "import matplotlib.pyplot as plt\n",
    "plt.plot(data['X'],data['Y'])\n",
    "plt.xlabel('X')\n",
    "plt.ylabel('Y')\n",
    "plt.show()"
   ]
  },
  {
   "cell_type": "code",
   "execution_count": 70,
   "id": "325825ec",
   "metadata": {},
   "outputs": [
    {
     "data": {
      "image/png": "[encoded data removed]",
      "text/plain": [
       "<Figure size 640x480 with 1 Axes>"
      ]
     },
     "metadata": {},
     "output_type": "display_data"
    }
   ],
   "source": [
    "import matplotlib.pyplot as plt\n",
    "plt.scatter(X_test,Y_test,c=\"b\",label=\"original value\")\n",
    "plt.plot(X_test,Y_predict,c=\"r\",label=\"predicted value\")\n",
    "plt.xlabel('X')\n",
    "plt.ylabel('Y')\n",
    "plt.show()"
   ]
  },
  {
   "cell_type": "code",
   "execution_count": null,
   "id": "aff0ab01",
   "metadata": {},
   "outputs": [],
   "source": []
  },
  {
   "cell_type": "code",
   "execution_count": null,
   "id": "c366be46",
   "metadata": {},
   "outputs": [],
   "source": []
  }
 ],
 "metadata": {
  "kernelspec": {
   "display_name": "Python 3 (ipykernel)",
   "language": "python",
   "name": "python3"
  },
  "language_info": {
   "codemirror_mode": {
    "name": "ipython",
    "version": 3
   },
   "file_extension": ".py",
   "mimetype": "text/x-python",
   "name": "python",
   "nbconvert_exporter": "python",
   "pygments_lexer": "ipython3",
   "version": "3.10.7"
  }
 },
 "nbformat": 4,
 "nbformat_minor": 5
}
