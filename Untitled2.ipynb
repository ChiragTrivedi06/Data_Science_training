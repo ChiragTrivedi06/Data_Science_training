{
 "cells": [
  {
   "cell_type": "code",
   "execution_count": null,
   "id": "870821ba",
   "metadata": {},
   "outputs": [],
   "source": [
    "import numpy as np\n",
    "import pandas ad pd\n"
   ]
  },
  {
   "cell_type": "code",
   "execution_count": null,
   "id": "72e461c3",
   "metadata": {},
   "outputs": [],
   "source": [
    "df = pd.read_csv(\"C:\\Users\\LENOVO\\Downloads\\business-financial-data-september-2022-quarter-csv\")\n"
   ]
  }
 ],
 "metadata": {
  "kernelspec": {
   "display_name": "Python 3 (ipykernel)",
   "language": "python",
   "name": "python3"
  },
  "language_info": {
   "codemirror_mode": {
    "name": "ipython",
    "version": 3
   },
   "file_extension": ".py",
   "mimetype": "text/x-python",
   "name": "python",
   "nbconvert_exporter": "python",
   "pygments_lexer": "ipython3",
   "version": "3.10.7"
  }
 },
 "nbformat": 4,
 "nbformat_minor": 5
}
